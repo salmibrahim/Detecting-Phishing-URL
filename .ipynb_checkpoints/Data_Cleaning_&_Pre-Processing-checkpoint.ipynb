{
 "cells": [
  {
   "cell_type": "code",
   "execution_count": null,
   "id": "c4ef2a6e",
   "metadata": {},
   "outputs": [],
   "source": [
    "import numpy as np\n",
    "import pandas as pd\n",
    "import matplotlib.pyplot as plt\n",
    "import seaborn as sns"
   ]
  },
  {
   "cell_type": "code",
   "execution_count": 57,
   "id": "9a77bf48",
   "metadata": {},
   "outputs": [
    {
     "data": {
      "text/html": [
       "<div>\n",
       "<style scoped>\n",
       "    .dataframe tbody tr th:only-of-type {\n",
       "        vertical-align: middle;\n",
       "    }\n",
       "\n",
       "    .dataframe tbody tr th {\n",
       "        vertical-align: top;\n",
       "    }\n",
       "\n",
       "    .dataframe thead th {\n",
       "        text-align: right;\n",
       "    }\n",
       "</style>\n",
       "<table border=\"1\" class=\"dataframe\">\n",
       "  <thead>\n",
       "    <tr style=\"text-align: right;\">\n",
       "      <th></th>\n",
       "      <th>domain</th>\n",
       "      <th>label</th>\n",
       "    </tr>\n",
       "  </thead>\n",
       "  <tbody>\n",
       "    <tr>\n",
       "      <th>96000</th>\n",
       "      <td>xbox360.ign.com/objects/850/850402.html</td>\n",
       "      <td>0.0</td>\n",
       "    </tr>\n",
       "    <tr>\n",
       "      <th>96001</th>\n",
       "      <td>games.teamxbox.com/xbox-360/1860/Dead-Space/</td>\n",
       "      <td>0.0</td>\n",
       "    </tr>\n",
       "    <tr>\n",
       "      <th>96002</th>\n",
       "      <td>www.gamespot.com/xbox360/action/deadspace/</td>\n",
       "      <td>0.0</td>\n",
       "    </tr>\n",
       "    <tr>\n",
       "      <th>96003</th>\n",
       "      <td>en.wikipedia.org/wiki/Dead_Space_(video_game)</td>\n",
       "      <td>0.0</td>\n",
       "    </tr>\n",
       "    <tr>\n",
       "      <th>96004</th>\n",
       "      <td>www.angelfire.com/goth/devilmaycrytonite/</td>\n",
       "      <td>0.0</td>\n",
       "    </tr>\n",
       "  </tbody>\n",
       "</table>\n",
       "</div>"
      ],
      "text/plain": [
       "                                              domain  label\n",
       "96000        xbox360.ign.com/objects/850/850402.html    0.0\n",
       "96001   games.teamxbox.com/xbox-360/1860/Dead-Space/    0.0\n",
       "96002     www.gamespot.com/xbox360/action/deadspace/    0.0\n",
       "96003  en.wikipedia.org/wiki/Dead_Space_(video_game)    0.0\n",
       "96004      www.angelfire.com/goth/devilmaycrytonite/    0.0"
      ]
     },
     "execution_count": 57,
     "metadata": {},
     "output_type": "execute_result"
    }
   ],
   "source": [
    "# Original dataset\n",
    "df = pd.read_csv(\"dataset/url_original.csv\")\n",
    "df.tail()"
   ]
  },
  {
   "cell_type": "markdown",
   "id": "3a75e676",
   "metadata": {},
   "source": [
    "check dataset if have null value"
   ]
  },
  {
   "cell_type": "code",
   "execution_count": 58,
   "id": "b68ec667",
   "metadata": {},
   "outputs": [
    {
     "name": "stdout",
     "output_type": "stream",
     "text": [
      "NULL VALUES\n",
      "domain     0\n",
      "label     92\n",
      "dtype: int64\n"
     ]
    }
   ],
   "source": [
    "print('NULL VALUES')\n",
    "print(df.isnull().sum())"
   ]
  },
  {
   "cell_type": "markdown",
   "id": "ba75fa32",
   "metadata": {},
   "source": [
    "in dataset have 92 null value, we should be deleting null value"
   ]
  },
  {
   "cell_type": "code",
   "execution_count": 59,
   "id": "b80559fb",
   "metadata": {},
   "outputs": [],
   "source": [
    "df.dropna(inplace=True)"
   ]
  },
  {
   "cell_type": "markdown",
   "id": "1e3bcccd",
   "metadata": {},
   "source": [
    "Again check the dataset it is have null value"
   ]
  },
  {
   "cell_type": "code",
   "execution_count": 60,
   "id": "618a87ac",
   "metadata": {},
   "outputs": [
    {
     "data": {
      "text/plain": [
       "domain    0\n",
       "label     0\n",
       "dtype: int64"
      ]
     },
     "execution_count": 60,
     "metadata": {},
     "output_type": "execute_result"
    }
   ],
   "source": [
    "# Quick check\n",
    "df.isnull().sum()"
   ]
  },
  {
   "cell_type": "markdown",
   "id": "139d6ae8",
   "metadata": {},
   "source": [
    "# Changing Dtypes"
   ]
  },
  {
   "cell_type": "markdown",
   "id": "eb80b861",
   "metadata": {},
   "source": [
    "Dtypes are changed so the two datasets match."
   ]
  },
  {
   "cell_type": "code",
   "execution_count": 61,
   "id": "78a07280",
   "metadata": {},
   "outputs": [
    {
     "data": {
      "text/plain": [
       "domain    object\n",
       "label      int32\n",
       "dtype: object"
      ]
     },
     "execution_count": 61,
     "metadata": {},
     "output_type": "execute_result"
    }
   ],
   "source": [
    "df['label'] = df['label'].astype(int)\n",
    "df.dtypes"
   ]
  },
  {
   "cell_type": "markdown",
   "id": "405cec12",
   "metadata": {},
   "source": [
    "# Change name of columns "
   ]
  },
  {
   "cell_type": "code",
   "execution_count": 62,
   "id": "6c1950a9",
   "metadata": {},
   "outputs": [],
   "source": [
    "df.rename(columns={\"domain\": \"url\", \"label\": \"phishing\"}, inplace=True)"
   ]
  },
  {
   "cell_type": "markdown",
   "id": "3537c675",
   "metadata": {},
   "source": [
    "# Adding Protocol"
   ]
  },
  {
   "cell_type": "markdown",
   "id": "0afc50b0",
   "metadata": {},
   "source": [
    "The original dataset does not include a protocol (such as 'http://') in the provided URLs. In order for a future use of urlparse to work efficiently on the concatenated DataFrame, all URLs must include a protocol. It is important to note that features extracted from the protocol will not be used in the model, but simply aid in the split of different URL parts."
   ]
  },
  {
   "cell_type": "code",
   "execution_count": 63,
   "id": "2aad33d8",
   "metadata": {},
   "outputs": [],
   "source": [
    "df['url'] = 'https://' + df['url'].astype(str)"
   ]
  },
  {
   "cell_type": "markdown",
   "id": "7bde754d",
   "metadata": {},
   "source": [
    "# Confirming Changes"
   ]
  },
  {
   "cell_type": "code",
   "execution_count": 64,
   "id": "8880e908",
   "metadata": {},
   "outputs": [
    {
     "data": {
      "text/html": [
       "<div>\n",
       "<style scoped>\n",
       "    .dataframe tbody tr th:only-of-type {\n",
       "        vertical-align: middle;\n",
       "    }\n",
       "\n",
       "    .dataframe tbody tr th {\n",
       "        vertical-align: top;\n",
       "    }\n",
       "\n",
       "    .dataframe thead th {\n",
       "        text-align: right;\n",
       "    }\n",
       "</style>\n",
       "<table border=\"1\" class=\"dataframe\">\n",
       "  <thead>\n",
       "    <tr style=\"text-align: right;\">\n",
       "      <th></th>\n",
       "      <th>url</th>\n",
       "      <th>phishing</th>\n",
       "    </tr>\n",
       "  </thead>\n",
       "  <tbody>\n",
       "    <tr>\n",
       "      <th>0</th>\n",
       "      <td>https://nobell.it/70ffb52d079109dca5664cce6f31...</td>\n",
       "      <td>1</td>\n",
       "    </tr>\n",
       "    <tr>\n",
       "      <th>1</th>\n",
       "      <td>https://www.dghjdgf.com/paypal.co.uk/cycgi-bin...</td>\n",
       "      <td>1</td>\n",
       "    </tr>\n",
       "    <tr>\n",
       "      <th>2</th>\n",
       "      <td>https://serviciosbys.com/paypal.cgi.bin.get-in...</td>\n",
       "      <td>1</td>\n",
       "    </tr>\n",
       "    <tr>\n",
       "      <th>3</th>\n",
       "      <td>https://mail.printakid.com/www.online.american...</td>\n",
       "      <td>1</td>\n",
       "    </tr>\n",
       "    <tr>\n",
       "      <th>4</th>\n",
       "      <td>https://thewhiskeydregs.com/wp-content/themes/...</td>\n",
       "      <td>1</td>\n",
       "    </tr>\n",
       "  </tbody>\n",
       "</table>\n",
       "</div>"
      ],
      "text/plain": [
       "                                                 url  phishing\n",
       "0  https://nobell.it/70ffb52d079109dca5664cce6f31...         1\n",
       "1  https://www.dghjdgf.com/paypal.co.uk/cycgi-bin...         1\n",
       "2  https://serviciosbys.com/paypal.cgi.bin.get-in...         1\n",
       "3  https://mail.printakid.com/www.online.american...         1\n",
       "4  https://thewhiskeydregs.com/wp-content/themes/...         1"
      ]
     },
     "execution_count": 64,
     "metadata": {},
     "output_type": "execute_result"
    }
   ],
   "source": [
    "df.head()"
   ]
  },
  {
   "cell_type": "markdown",
   "id": "15e45658",
   "metadata": {},
   "source": [
    "Concatenating DataFrames"
   ]
  },
  {
   "cell_type": "code",
   "execution_count": 65,
   "id": "020790a1",
   "metadata": {},
   "outputs": [],
   "source": [
    "df_final = pd.concat([df])"
   ]
  },
  {
   "cell_type": "markdown",
   "id": "465b8a86",
   "metadata": {},
   "source": [
    "# Dropping Duplicates"
   ]
  },
  {
   "cell_type": "code",
   "execution_count": 66,
   "id": "a515a096",
   "metadata": {},
   "outputs": [
    {
     "data": {
      "text/html": [
       "<div>\n",
       "<style scoped>\n",
       "    .dataframe tbody tr th:only-of-type {\n",
       "        vertical-align: middle;\n",
       "    }\n",
       "\n",
       "    .dataframe tbody tr th {\n",
       "        vertical-align: top;\n",
       "    }\n",
       "\n",
       "    .dataframe thead th {\n",
       "        text-align: right;\n",
       "    }\n",
       "</style>\n",
       "<table border=\"1\" class=\"dataframe\">\n",
       "  <thead>\n",
       "    <tr style=\"text-align: right;\">\n",
       "      <th></th>\n",
       "      <th>url</th>\n",
       "      <th>phishing</th>\n",
       "    </tr>\n",
       "  </thead>\n",
       "  <tbody>\n",
       "    <tr>\n",
       "      <th>35411</th>\n",
       "      <td>https://bin/webscr?cmd=_login-</td>\n",
       "      <td>1</td>\n",
       "    </tr>\n",
       "    <tr>\n",
       "      <th>45182</th>\n",
       "      <td>https://'www.allegropl.xaa.pl/enter_login.html...</td>\n",
       "      <td>1</td>\n",
       "    </tr>\n",
       "  </tbody>\n",
       "</table>\n",
       "</div>"
      ],
      "text/plain": [
       "                                                     url  phishing\n",
       "35411                     https://bin/webscr?cmd=_login-         1\n",
       "45182  https://'www.allegropl.xaa.pl/enter_login.html...         1"
      ]
     },
     "execution_count": 66,
     "metadata": {},
     "output_type": "execute_result"
    }
   ],
   "source": [
    "df_final[df_final.duplicated()]"
   ]
  },
  {
   "cell_type": "code",
   "execution_count": 67,
   "id": "5d6b08c8",
   "metadata": {},
   "outputs": [],
   "source": [
    "df_final.drop_duplicates(inplace=True)"
   ]
  },
  {
   "cell_type": "code",
   "execution_count": 68,
   "id": "ca3d51d6",
   "metadata": {},
   "outputs": [],
   "source": [
    "df_final.to_csv('dataset/url_concatenated.csv', index=False)"
   ]
  },
  {
   "cell_type": "markdown",
   "id": "2cc33672",
   "metadata": {},
   "source": [
    "# End DataCleaning"
   ]
  },
  {
   "cell_type": "markdown",
   "id": "e3c9b561",
   "metadata": {},
   "source": [
    "# Start to data preprocessing"
   ]
  },
  {
   "cell_type": "code",
   "execution_count": 69,
   "id": "5fe4cf90",
   "metadata": {},
   "outputs": [
    {
     "data": {
      "image/png": "[encoded data removed]",
      "text/plain": [
       "<Figure size 500x700 with 1 Axes>"
      ]
     },
     "metadata": {},
     "output_type": "display_data"
    }
   ],
   "source": [
    "plt.figure(figsize = (5, 7))        \n",
    "bar = sns.countplot(x=df[\"phishing\"], \n",
    "              data=df, \n",
    "              palette=\"Reds\")\n",
    "for p in bar.patches:\n",
    "    bar.annotate(format(p.get_height(), ','), \n",
    "                   (p.get_x() + p.get_width() / 2., p.get_height()), \n",
    "                   ha = 'center', va = 'center', \n",
    "                   xytext = (0, 9), \n",
    "                   textcoords = 'offset points')\n",
    "plt.title('Frequency of Legitimate and Phishing URLs', fontsize = 16, pad = 12)\n",
    "plt.xlabel('Legitimate (0), Phishing (1)', fontsize = 14)\n",
    "plt.ylabel(\"Frequency\",fontsize = 14)\n",
    "plt.show();"
   ]
  },
  {
   "cell_type": "markdown",
   "id": "20f79b43",
   "metadata": {},
   "source": [
    "# Adding Feature to increase Accuracy of model"
   ]
  },
  {
   "cell_type": "code",
   "execution_count": 70,
   "id": "834c6010",
   "metadata": {},
   "outputs": [],
   "source": [
    "import urllib\n",
    "from urllib.parse import urlparse"
   ]
  },
  {
   "cell_type": "code",
   "execution_count": 71,
   "id": "1bc5395e",
   "metadata": {},
   "outputs": [],
   "source": [
    "urls = [url for url in df['url']]\n",
    "\n",
    "# Code adapted from https://stackoverflow.com/questions/48927719/parse-split-urls-in-a-pandas-dataframe-using-urllib\n",
    "\n",
    "df['protocol'],df['domain'],df['path'],df['query'],df['fragment'] = zip(*[urllib.parse.urlsplit(x) for x in urls])"
   ]
  },
  {
   "cell_type": "code",
   "execution_count": 72,
   "id": "78dd0294",
   "metadata": {},
   "outputs": [
    {
     "data": {
      "text/html": [
       "<div>\n",
       "<style scoped>\n",
       "    .dataframe tbody tr th:only-of-type {\n",
       "        vertical-align: middle;\n",
       "    }\n",
       "\n",
       "    .dataframe tbody tr th {\n",
       "        vertical-align: top;\n",
       "    }\n",
       "\n",
       "    .dataframe thead th {\n",
       "        text-align: right;\n",
       "    }\n",
       "</style>\n",
       "<table border=\"1\" class=\"dataframe\">\n",
       "  <thead>\n",
       "    <tr style=\"text-align: right;\">\n",
       "      <th></th>\n",
       "      <th>url</th>\n",
       "      <th>phishing</th>\n",
       "      <th>protocol</th>\n",
       "      <th>domain</th>\n",
       "      <th>path</th>\n",
       "      <th>query</th>\n",
       "      <th>fragment</th>\n",
       "    </tr>\n",
       "  </thead>\n",
       "  <tbody>\n",
       "    <tr>\n",
       "      <th>0</th>\n",
       "      <td>https://nobell.it/70ffb52d079109dca5664cce6f31...</td>\n",
       "      <td>1</td>\n",
       "      <td>https</td>\n",
       "      <td>nobell.it</td>\n",
       "      <td>/70ffb52d079109dca5664cce6f317373782/login.Sky...</td>\n",
       "      <td>cmd=_profile-ach&amp;outdated_page_tmpl=p/gen/fail...</td>\n",
       "      <td></td>\n",
       "    </tr>\n",
       "    <tr>\n",
       "      <th>1</th>\n",
       "      <td>https://www.dghjdgf.com/paypal.co.uk/cycgi-bin...</td>\n",
       "      <td>1</td>\n",
       "      <td>https</td>\n",
       "      <td>www.dghjdgf.com</td>\n",
       "      <td>/paypal.co.uk/cycgi-bin/webscrcmd=_home-custom...</td>\n",
       "      <td></td>\n",
       "      <td></td>\n",
       "    </tr>\n",
       "    <tr>\n",
       "      <th>2</th>\n",
       "      <td>https://serviciosbys.com/paypal.cgi.bin.get-in...</td>\n",
       "      <td>1</td>\n",
       "      <td>https</td>\n",
       "      <td>serviciosbys.com</td>\n",
       "      <td>/paypal.cgi.bin.get-into.herf.secure.dispatch3...</td>\n",
       "      <td></td>\n",
       "      <td></td>\n",
       "    </tr>\n",
       "    <tr>\n",
       "      <th>3</th>\n",
       "      <td>https://mail.printakid.com/www.online.american...</td>\n",
       "      <td>1</td>\n",
       "      <td>https</td>\n",
       "      <td>mail.printakid.com</td>\n",
       "      <td>/www.online.americanexpress.com/index.html</td>\n",
       "      <td></td>\n",
       "      <td></td>\n",
       "    </tr>\n",
       "    <tr>\n",
       "      <th>4</th>\n",
       "      <td>https://thewhiskeydregs.com/wp-content/themes/...</td>\n",
       "      <td>1</td>\n",
       "      <td>https</td>\n",
       "      <td>thewhiskeydregs.com</td>\n",
       "      <td>/wp-content/themes/widescreen/includes/temp/pr...</td>\n",
       "      <td>84784787824HDJNDJDSJSHD//2724782784/</td>\n",
       "      <td></td>\n",
       "    </tr>\n",
       "  </tbody>\n",
       "</table>\n",
       "</div>"
      ],
      "text/plain": [
       "                                                 url  phishing protocol  \\\n",
       "0  https://nobell.it/70ffb52d079109dca5664cce6f31...         1    https   \n",
       "1  https://www.dghjdgf.com/paypal.co.uk/cycgi-bin...         1    https   \n",
       "2  https://serviciosbys.com/paypal.cgi.bin.get-in...         1    https   \n",
       "3  https://mail.printakid.com/www.online.american...         1    https   \n",
       "4  https://thewhiskeydregs.com/wp-content/themes/...         1    https   \n",
       "\n",
       "                domain                                               path  \\\n",
       "0            nobell.it  /70ffb52d079109dca5664cce6f317373782/login.Sky...   \n",
       "1      www.dghjdgf.com  /paypal.co.uk/cycgi-bin/webscrcmd=_home-custom...   \n",
       "2     serviciosbys.com  /paypal.cgi.bin.get-into.herf.secure.dispatch3...   \n",
       "3   mail.printakid.com         /www.online.americanexpress.com/index.html   \n",
       "4  thewhiskeydregs.com  /wp-content/themes/widescreen/includes/temp/pr...   \n",
       "\n",
       "                                               query fragment  \n",
       "0  cmd=_profile-ach&outdated_page_tmpl=p/gen/fail...           \n",
       "1                                                              \n",
       "2                                                              \n",
       "3                                                              \n",
       "4               84784787824HDJNDJDSJSHD//2724782784/           "
      ]
     },
     "execution_count": 72,
     "metadata": {},
     "output_type": "execute_result"
    }
   ],
   "source": [
    "# Check\n",
    "df.head()"
   ]
  },
  {
   "cell_type": "markdown",
   "id": "bc0c7519",
   "metadata": {},
   "source": [
    "# Function Creation"
   ]
  },
  {
   "cell_type": "markdown",
   "id": "8bec5cc6",
   "metadata": {},
   "source": [
    "Function is created to extract features from each part of URL."
   ]
  },
  {
   "cell_type": "code",
   "execution_count": 73,
   "id": "9c7a51c4",
   "metadata": {},
   "outputs": [],
   "source": [
    "def get_features(df):\n",
    "    needed_cols = ['url', 'domain', 'path', 'query', 'fragment']\n",
    "    for col in needed_cols:\n",
    "        df[f'{col}_length']=df[col].str.len()\n",
    "        df[f'qty_dot_{col}'] = df[[col]].applymap(lambda x: str.count(x, '.'))\n",
    "        df[f'qty_hyphen_{col}'] = df[[col]].applymap(lambda x: str.count(x, '-'))\n",
    "        df[f'qty_slash_{col}'] = df[[col]].applymap(lambda x: str.count(x, '/'))\n",
    "        df[f'qty_questionmark_{col}'] = df[[col]].applymap(lambda x: str.count(x, '?'))\n",
    "        df[f'qty_equal_{col}'] = df[[col]].applymap(lambda x: str.count(x, '='))\n",
    "        df[f'qty_at_{col}'] = df[[col]].applymap(lambda x: str.count(x, '@'))\n",
    "        df[f'qty_and_{col}'] = df[[col]].applymap(lambda x: str.count(x, '&'))\n",
    "        df[f'qty_exclamation_{col}'] = df[[col]].applymap(lambda x: str.count(x, '!'))\n",
    "        df[f'qty_space_{col}'] = df[[col]].applymap(lambda x: str.count(x, ' '))\n",
    "        df[f'qty_tilde_{col}'] = df[[col]].applymap(lambda x: str.count(x, '~'))\n",
    "        df[f'qty_comma_{col}'] = df[[col]].applymap(lambda x: str.count(x, ','))\n",
    "        df[f'qty_plus_{col}'] = df[[col]].applymap(lambda x: str.count(x, '+'))\n",
    "        df[f'qty_asterisk_{col}'] = df[[col]].applymap(lambda x: str.count(x, '*'))\n",
    "        df[f'qty_hashtag_{col}'] = df[[col]].applymap(lambda x: str.count(x, '#'))\n",
    "        df[f'qty_dollar_{col}'] = df[[col]].applymap(lambda x: str.count(x, '$'))\n",
    "        df[f'qty_percent_{col}'] = df[[col]].applymap(lambda x: str.count(x, '%'))\n",
    "        df[f'qty_dash_{col}'] = df[[col]].applymap(lambda x: str.count(x, '_'))\n",
    "     \n",
    "        \n",
    "     \n",
    "        "
   ]
  },
  {
   "cell_type": "code",
   "execution_count": 74,
   "id": "9bdcd674",
   "metadata": {},
   "outputs": [],
   "source": [
    "# Applying function\n",
    "get_features(df)"
   ]
  },
  {
   "cell_type": "code",
   "execution_count": 75,
   "id": "e3372327",
   "metadata": {},
   "outputs": [
    {
     "data": {
      "text/html": [
       "<div>\n",
       "<style scoped>\n",
       "    .dataframe tbody tr th:only-of-type {\n",
       "        vertical-align: middle;\n",
       "    }\n",
       "\n",
       "    .dataframe tbody tr th {\n",
       "        vertical-align: top;\n",
       "    }\n",
       "\n",
       "    .dataframe thead th {\n",
       "        text-align: right;\n",
       "    }\n",
       "</style>\n",
       "<table border=\"1\" class=\"dataframe\">\n",
       "  <thead>\n",
       "    <tr style=\"text-align: right;\">\n",
       "      <th></th>\n",
       "      <th>url</th>\n",
       "      <th>phishing</th>\n",
       "      <th>protocol</th>\n",
       "      <th>domain</th>\n",
       "      <th>path</th>\n",
       "      <th>query</th>\n",
       "      <th>fragment</th>\n",
       "      <th>url_length</th>\n",
       "      <th>qty_dot_url</th>\n",
       "      <th>qty_hyphen_url</th>\n",
       "      <th>...</th>\n",
       "      <th>qty_Q_fragment</th>\n",
       "      <th>qty_R_fragment</th>\n",
       "      <th>qty_S_fragment</th>\n",
       "      <th>qty_T_fragment</th>\n",
       "      <th>qty_U_fragment</th>\n",
       "      <th>qty_V_fragment</th>\n",
       "      <th>qty_W_fragment</th>\n",
       "      <th>qty_X_fragment</th>\n",
       "      <th>qty_Y_fragment</th>\n",
       "      <th>qty_Z_fragment</th>\n",
       "    </tr>\n",
       "  </thead>\n",
       "  <tbody>\n",
       "    <tr>\n",
       "      <th>0</th>\n",
       "      <td>https://nobell.it/70ffb52d079109dca5664cce6f31...</td>\n",
       "      <td>1</td>\n",
       "      <td>https</td>\n",
       "      <td>nobell.it</td>\n",
       "      <td>/70ffb52d079109dca5664cce6f317373782/login.Sky...</td>\n",
       "      <td>cmd=_profile-ach&amp;outdated_page_tmpl=p/gen/fail...</td>\n",
       "      <td></td>\n",
       "      <td>233</td>\n",
       "      <td>6</td>\n",
       "      <td>4</td>\n",
       "      <td>...</td>\n",
       "      <td>0</td>\n",
       "      <td>0</td>\n",
       "      <td>0</td>\n",
       "      <td>0</td>\n",
       "      <td>0</td>\n",
       "      <td>0</td>\n",
       "      <td>0</td>\n",
       "      <td>0</td>\n",
       "      <td>0</td>\n",
       "      <td>0</td>\n",
       "    </tr>\n",
       "    <tr>\n",
       "      <th>1</th>\n",
       "      <td>https://www.dghjdgf.com/paypal.co.uk/cycgi-bin...</td>\n",
       "      <td>1</td>\n",
       "      <td>https</td>\n",
       "      <td>www.dghjdgf.com</td>\n",
       "      <td>/paypal.co.uk/cycgi-bin/webscrcmd=_home-custom...</td>\n",
       "      <td></td>\n",
       "      <td></td>\n",
       "      <td>89</td>\n",
       "      <td>5</td>\n",
       "      <td>2</td>\n",
       "      <td>...</td>\n",
       "      <td>0</td>\n",
       "      <td>0</td>\n",
       "      <td>0</td>\n",
       "      <td>0</td>\n",
       "      <td>0</td>\n",
       "      <td>0</td>\n",
       "      <td>0</td>\n",
       "      <td>0</td>\n",
       "      <td>0</td>\n",
       "      <td>0</td>\n",
       "    </tr>\n",
       "    <tr>\n",
       "      <th>2</th>\n",
       "      <td>https://serviciosbys.com/paypal.cgi.bin.get-in...</td>\n",
       "      <td>1</td>\n",
       "      <td>https</td>\n",
       "      <td>serviciosbys.com</td>\n",
       "      <td>/paypal.cgi.bin.get-into.herf.secure.dispatch3...</td>\n",
       "      <td></td>\n",
       "      <td></td>\n",
       "      <td>185</td>\n",
       "      <td>7</td>\n",
       "      <td>1</td>\n",
       "      <td>...</td>\n",
       "      <td>0</td>\n",
       "      <td>0</td>\n",
       "      <td>0</td>\n",
       "      <td>0</td>\n",
       "      <td>0</td>\n",
       "      <td>0</td>\n",
       "      <td>0</td>\n",
       "      <td>0</td>\n",
       "      <td>0</td>\n",
       "      <td>0</td>\n",
       "    </tr>\n",
       "    <tr>\n",
       "      <th>3</th>\n",
       "      <td>https://mail.printakid.com/www.online.american...</td>\n",
       "      <td>1</td>\n",
       "      <td>https</td>\n",
       "      <td>mail.printakid.com</td>\n",
       "      <td>/www.online.americanexpress.com/index.html</td>\n",
       "      <td></td>\n",
       "      <td></td>\n",
       "      <td>68</td>\n",
       "      <td>6</td>\n",
       "      <td>0</td>\n",
       "      <td>...</td>\n",
       "      <td>0</td>\n",
       "      <td>0</td>\n",
       "      <td>0</td>\n",
       "      <td>0</td>\n",
       "      <td>0</td>\n",
       "      <td>0</td>\n",
       "      <td>0</td>\n",
       "      <td>0</td>\n",
       "      <td>0</td>\n",
       "      <td>0</td>\n",
       "    </tr>\n",
       "    <tr>\n",
       "      <th>4</th>\n",
       "      <td>https://thewhiskeydregs.com/wp-content/themes/...</td>\n",
       "      <td>1</td>\n",
       "      <td>https</td>\n",
       "      <td>thewhiskeydregs.com</td>\n",
       "      <td>/wp-content/themes/widescreen/includes/temp/pr...</td>\n",
       "      <td>84784787824HDJNDJDSJSHD//2724782784/</td>\n",
       "      <td></td>\n",
       "      <td>124</td>\n",
       "      <td>1</td>\n",
       "      <td>1</td>\n",
       "      <td>...</td>\n",
       "      <td>0</td>\n",
       "      <td>0</td>\n",
       "      <td>0</td>\n",
       "      <td>0</td>\n",
       "      <td>0</td>\n",
       "      <td>0</td>\n",
       "      <td>0</td>\n",
       "      <td>0</td>\n",
       "      <td>0</td>\n",
       "      <td>0</td>\n",
       "    </tr>\n",
       "  </tbody>\n",
       "</table>\n",
       "<p>5 rows × 227 columns</p>\n",
       "</div>"
      ],
      "text/plain": [
       "                                                 url  phishing protocol  \\\n",
       "0  https://nobell.it/70ffb52d079109dca5664cce6f31...         1    https   \n",
       "1  https://www.dghjdgf.com/paypal.co.uk/cycgi-bin...         1    https   \n",
       "2  https://serviciosbys.com/paypal.cgi.bin.get-in...         1    https   \n",
       "3  https://mail.printakid.com/www.online.american...         1    https   \n",
       "4  https://thewhiskeydregs.com/wp-content/themes/...         1    https   \n",
       "\n",
       "                domain                                               path  \\\n",
       "0            nobell.it  /70ffb52d079109dca5664cce6f317373782/login.Sky...   \n",
       "1      www.dghjdgf.com  /paypal.co.uk/cycgi-bin/webscrcmd=_home-custom...   \n",
       "2     serviciosbys.com  /paypal.cgi.bin.get-into.herf.secure.dispatch3...   \n",
       "3   mail.printakid.com         /www.online.americanexpress.com/index.html   \n",
       "4  thewhiskeydregs.com  /wp-content/themes/widescreen/includes/temp/pr...   \n",
       "\n",
       "                                               query fragment  url_length  \\\n",
       "0  cmd=_profile-ach&outdated_page_tmpl=p/gen/fail...                  233   \n",
       "1                                                                      89   \n",
       "2                                                                     185   \n",
       "3                                                                      68   \n",
       "4               84784787824HDJNDJDSJSHD//2724782784/                  124   \n",
       "\n",
       "   qty_dot_url  qty_hyphen_url  ...  qty_Q_fragment  qty_R_fragment  \\\n",
       "0            6               4  ...               0               0   \n",
       "1            5               2  ...               0               0   \n",
       "2            7               1  ...               0               0   \n",
       "3            6               0  ...               0               0   \n",
       "4            1               1  ...               0               0   \n",
       "\n",
       "   qty_S_fragment  qty_T_fragment  qty_U_fragment  qty_V_fragment  \\\n",
       "0               0               0               0               0   \n",
       "1               0               0               0               0   \n",
       "2               0               0               0               0   \n",
       "3               0               0               0               0   \n",
       "4               0               0               0               0   \n",
       "\n",
       "   qty_W_fragment  qty_X_fragment  qty_Y_fragment  qty_Z_fragment  \n",
       "0               0               0               0               0  \n",
       "1               0               0               0               0  \n",
       "2               0               0               0               0  \n",
       "3               0               0               0               0  \n",
       "4               0               0               0               0  \n",
       "\n",
       "[5 rows x 227 columns]"
      ]
     },
     "execution_count": 75,
     "metadata": {},
     "output_type": "execute_result"
    }
   ],
   "source": [
    "# Check\n",
    "df.head()"
   ]
  },
  {
   "cell_type": "code",
   "execution_count": 76,
   "id": "185d2988",
   "metadata": {},
   "outputs": [],
   "source": [
    "col_in_question = ['qty_slash_domain', 'qty_questionmark_domain','qty_equal_domain', 'qty_at_domain', 'qty_and_domain',\n",
    " 'qty_exclamation_domain', 'qty_space_domain', 'qty_tilde_domain','qty_comma_domain', 'qty_plus_domain', \n",
    " 'qty_asterisk_domain','qty_hashtag_domain', 'qty_dollar_domain', 'qty_percent_domain', 'qty_questionmark_path', \n",
    " 'qty_hashtag_path', 'qty_hashtag_query', 'qty_at_fragment','qty_tilde_fragment', 'qty_plus_fragment']"
   ]
  },
  {
   "cell_type": "code",
   "execution_count": 77,
   "id": "7cc964aa",
   "metadata": {},
   "outputs": [
    {
     "name": "stdout",
     "output_type": "stream",
     "text": [
      "0    95913\n",
      "Name: qty_slash_domain, dtype: int64\n",
      "0    95913\n",
      "Name: qty_questionmark_domain, dtype: int64\n",
      "0    95913\n",
      "Name: qty_equal_domain, dtype: int64\n",
      "0    95913\n",
      "Name: qty_at_domain, dtype: int64\n",
      "0    95913\n",
      "Name: qty_and_domain, dtype: int64\n",
      "0    95913\n",
      "Name: qty_exclamation_domain, dtype: int64\n",
      "0    95913\n",
      "Name: qty_space_domain, dtype: int64\n",
      "0    95913\n",
      "Name: qty_tilde_domain, dtype: int64\n",
      "0    95913\n",
      "Name: qty_comma_domain, dtype: int64\n",
      "0    95913\n",
      "Name: qty_plus_domain, dtype: int64\n",
      "0    95913\n",
      "Name: qty_asterisk_domain, dtype: int64\n",
      "0    95913\n",
      "Name: qty_hashtag_domain, dtype: int64\n",
      "0    95913\n",
      "Name: qty_dollar_domain, dtype: int64\n",
      "0    95913\n",
      "Name: qty_percent_domain, dtype: int64\n",
      "0    95913\n",
      "Name: qty_questionmark_path, dtype: int64\n",
      "0    95913\n",
      "Name: qty_hashtag_path, dtype: int64\n",
      "0    95913\n",
      "Name: qty_hashtag_query, dtype: int64\n",
      "0    95913\n",
      "Name: qty_at_fragment, dtype: int64\n",
      "0    95913\n",
      "Name: qty_tilde_fragment, dtype: int64\n",
      "0    95913\n",
      "Name: qty_plus_fragment, dtype: int64\n"
     ]
    }
   ],
   "source": [
    "for col in col_in_question:\n",
    "    print(df[col].value_counts())"
   ]
  },
  {
   "cell_type": "markdown",
   "id": "9b11c642",
   "metadata": {},
   "source": [
    "These columns will be dropped prior to modeling."
   ]
  },
  {
   "cell_type": "code",
   "execution_count": 78,
   "id": "1deea0f3",
   "metadata": {},
   "outputs": [],
   "source": [
    "df.drop(columns = col_in_question, inplace=True)"
   ]
  },
  {
   "cell_type": "markdown",
   "id": "9c5e091e",
   "metadata": {},
   "source": [
    "# Saving Work"
   ]
  },
  {
   "cell_type": "code",
   "execution_count": 82,
   "id": "c10e34c8",
   "metadata": {},
   "outputs": [],
   "source": [
    "df.to_csv('dataset/url_updated.csv', index=False)"
   ]
  },
  {
   "cell_type": "code",
   "execution_count": null,
   "id": "cba71541",
   "metadata": {},
   "outputs": [],
   "source": []
  }
 ],
 "metadata": {
  "kernelspec": {
   "display_name": "Python 3 (ipykernel)",
   "language": "python",
   "name": "python3"
  },
  "language_info": {
   "codemirror_mode": {
    "name": "ipython",
    "version": 3
   },
   "file_extension": ".py",
   "mimetype": "text/x-python",
   "name": "python",
   "nbconvert_exporter": "python",
   "pygments_lexer": "ipython3",
   "version": "3.9.13"
  }
 },
 "nbformat": 4,
 "nbformat_minor": 5
}
